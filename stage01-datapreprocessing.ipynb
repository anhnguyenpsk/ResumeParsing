{
 "cells": [
  {
   "cell_type": "code",
   "execution_count": 1,
   "id": "19346fee",
   "metadata": {
    "execution": {
     "iopub.execute_input": "2025-06-01T12:55:45.817103Z",
     "iopub.status.busy": "2025-06-01T12:55:45.816728Z",
     "iopub.status.idle": "2025-06-01T12:55:55.546631Z",
     "shell.execute_reply": "2025-06-01T12:55:55.545913Z"
    },
    "papermill": {
     "duration": 9.737196,
     "end_time": "2025-06-01T12:55:55.548243",
     "exception": false,
     "start_time": "2025-06-01T12:55:45.811047",
     "status": "completed"
    },
    "tags": []
   },
   "outputs": [],
   "source": [
    "import spacy\n",
    "import pickle\n",
    "import random\n",
    "import json\n",
    "from spacy.tokens import DocBin\n",
    "from tqdm import tqdm\n",
    "import json"
   ]
  },
  {
   "cell_type": "code",
   "execution_count": 2,
   "id": "ce865524",
   "metadata": {
    "execution": {
     "iopub.execute_input": "2025-06-01T12:55:55.556839Z",
     "iopub.status.busy": "2025-06-01T12:55:55.556366Z",
     "iopub.status.idle": "2025-06-01T12:55:58.433558Z",
     "shell.execute_reply": "2025-06-01T12:55:58.432728Z"
    },
    "papermill": {
     "duration": 2.88303,
     "end_time": "2025-06-01T12:55:58.435146",
     "exception": false,
     "start_time": "2025-06-01T12:55:55.552116",
     "status": "completed"
    },
    "tags": []
   },
   "outputs": [],
   "source": [
    "from collections import Counter\n",
    "import matplotlib.pyplot as plt\n",
    "import seaborn as sns"
   ]
  },
  {
   "cell_type": "code",
   "execution_count": 3,
   "id": "4e5db46b",
   "metadata": {
    "execution": {
     "iopub.execute_input": "2025-06-01T12:55:58.443939Z",
     "iopub.status.busy": "2025-06-01T12:55:58.443403Z",
     "iopub.status.idle": "2025-06-01T12:55:58.745781Z",
     "shell.execute_reply": "2025-06-01T12:55:58.744632Z"
    },
    "papermill": {
     "duration": 0.30847,
     "end_time": "2025-06-01T12:55:58.747449",
     "exception": false,
     "start_time": "2025-06-01T12:55:58.438979",
     "status": "completed"
    },
    "tags": []
   },
   "outputs": [],
   "source": [
    "json_file_path = '/kaggle/input/ner-resume-input-final/dataset.json'\n",
    "with open(json_file_path, \"r\" , encoding = \"utf-8\") as f:\n",
    "    cv_data = json.load(f)"
   ]
  },
  {
   "cell_type": "code",
   "execution_count": 4,
   "id": "af3330bf",
   "metadata": {
    "execution": {
     "iopub.execute_input": "2025-06-01T12:55:58.755820Z",
     "iopub.status.busy": "2025-06-01T12:55:58.755463Z",
     "iopub.status.idle": "2025-06-01T12:55:58.760779Z",
     "shell.execute_reply": "2025-06-01T12:55:58.759718Z"
    },
    "papermill": {
     "duration": 0.011307,
     "end_time": "2025-06-01T12:55:58.762386",
     "exception": false,
     "start_time": "2025-06-01T12:55:58.751079",
     "status": "completed"
    },
    "tags": []
   },
   "outputs": [
    {
     "name": "stdout",
     "output_type": "stream",
     "text": [
      "Total documents: 1014\n"
     ]
    }
   ],
   "source": [
    "num_docs = len(cv_data)\n",
    "print(f\"Total documents: {num_docs}\")"
   ]
  },
  {
   "cell_type": "markdown",
   "id": "1a9986bf",
   "metadata": {
    "papermill": {
     "duration": 0.003254,
     "end_time": "2025-06-01T12:55:58.769514",
     "exception": false,
     "start_time": "2025-06-01T12:55:58.766260",
     "status": "completed"
    },
    "tags": []
   },
   "source": [
    "**DATA UNDERSTANDING**"
   ]
  },
  {
   "cell_type": "code",
   "execution_count": 5,
   "id": "4fb8e9fa",
   "metadata": {
    "execution": {
     "iopub.execute_input": "2025-06-01T12:55:58.777644Z",
     "iopub.status.busy": "2025-06-01T12:55:58.777319Z",
     "iopub.status.idle": "2025-06-01T12:55:58.784581Z",
     "shell.execute_reply": "2025-06-01T12:55:58.783800Z"
    },
    "papermill": {
     "duration": 0.01301,
     "end_time": "2025-06-01T12:55:58.785986",
     "exception": false,
     "start_time": "2025-06-01T12:55:58.772976",
     "status": "completed"
    },
    "tags": []
   },
   "outputs": [
    {
     "data": {
      "text/plain": [
       "['\\xa0 \\xa0\\nContact\\nwww.linkedin.com/in/omjagri\\n(LinkedIn)\\nTop Skills\\nphp\\nMySQL\\nJavaScript\\nCertifications\\nPhp & Js Om Prakash Jagri\\nFull Stack Developer | PHP | Laravel | Vue Js\\nKathmandu, Bāgmatī, Nepal\\nSummary\\nExperienced Developer with a demonstrated history of working in\\nthe information technology and services industry. Skilled in Laravel,\\nPHP, Cascading Style Sheets (CSS), JavaScript, vue js and MySQL.\\nStrong engineering professional with a B.sc.CSIT(Bachelors of\\nScience in Computer Science and Information Technology) focused\\nin Computer Science from Tribhuvan University, Institute of Science\\n& Tchnology. \\nExperience\\nSearchable Design LLC\\nSoftware Developer\\nJune 2021\\xa0-\\xa0Present\\xa0 (1 year 7 months)\\nNepal\\nFull Stack Developer Laravel with Vue Js\\nBenekiva\\nTechnical Documentation\\nSeptember 2021\\xa0-\\xa0Present\\xa0 (1 year 4 months)\\nUnited States\\nBidhee\\n3 years 9 months\\nLaravel Developer\\nMarch 2018\\xa0-\\xa0May 2021\\xa0 (3 years 3 months)\\nBaneswar Kathamandu\\nInternship\\nSeptember 2017\\xa0-\\xa0February 2018\\xa0 (6 months)\\nKathamandu Nepal\\nWeb Development in PHP/JS With Laravel Framework \\nEducation\\n\\xa0 Page 1 of 2\\xa0 \\xa0\\nSiddhanath Science Campus Mahendranagar\\nB.sc.CSIT(Bachelors of Science in Computer Science and Information\\nTechnology),\\xa0Computer Science \\xa0·\\xa0(2013\\xa0-\\xa02018)\\n\\xa0 Page 2 of 2',\n",
       " {'entities': [[12, 39, 'LINKEDIN LINK'],\n",
       "   [62, 65, 'SKILLS'],\n",
       "   [66, 71, 'SKILLS'],\n",
       "   [72, 82, 'SKILLS'],\n",
       "   [98, 106, 'CERTIFICATION'],\n",
       "   [107, 123, 'NAME'],\n",
       "   [147, 150, 'SKILLS'],\n",
       "   [153, 160, 'SKILLS'],\n",
       "   [163, 169, 'SKILLS'],\n",
       "   [170, 195, 'LOCATION'],\n",
       "   [622, 643, 'COMPANIES WORKED AT'],\n",
       "   [644, 662, 'WORKED AS'],\n",
       "   [685, 700, 'YEARS OF EXPERIENCE'],\n",
       "   [749, 757, 'COMPANIES WORKED AT'],\n",
       "   [758, 781, 'WORKED AS'],\n",
       "   [809, 824, 'YEARS OF EXPERIENCE'],\n",
       "   [840, 846, 'COMPANIES WORKED AT'],\n",
       "   [864, 881, 'WORKED AS'],\n",
       "   [906, 922, 'YEARS OF EXPERIENCE'],\n",
       "   [944, 954, 'WORKED AS'],\n",
       "   [988, 996, 'YEARS OF EXPERIENCE'],\n",
       "   [1092, 1131, 'COLLEGE NAME'],\n",
       "   [1132, 1228, 'DEGREE']]}]"
      ]
     },
     "execution_count": 5,
     "metadata": {},
     "output_type": "execute_result"
    }
   ],
   "source": [
    "cv_data[0]"
   ]
  },
  {
   "cell_type": "code",
   "execution_count": 6,
   "id": "6e22b7fd",
   "metadata": {
    "execution": {
     "iopub.execute_input": "2025-06-01T12:55:58.795087Z",
     "iopub.status.busy": "2025-06-01T12:55:58.794764Z",
     "iopub.status.idle": "2025-06-01T12:55:58.802163Z",
     "shell.execute_reply": "2025-06-01T12:55:58.801368Z"
    },
    "papermill": {
     "duration": 0.013756,
     "end_time": "2025-06-01T12:55:58.803704",
     "exception": false,
     "start_time": "2025-06-01T12:55:58.789948",
     "status": "completed"
    },
    "tags": []
   },
   "outputs": [],
   "source": [
    "# Get inforamtion about the dataset \n",
    "def compute_metrics(documents):\n",
    "    text_lengths = []        \n",
    "    annotations_count = []  \n",
    "    annotation_labels = []\n",
    "\n",
    "    for doc in documents:\n",
    "        if not isinstance(doc, list) or len(doc) != 2:\n",
    "            print(f\"Skipping document with unexpected structure: {doc}\")\n",
    "            continue\n",
    "\n",
    "        text, ann_dict = doc[0], doc[1]\n",
    "        text_lengths.append(len(text))\n",
    "        entities = ann_dict.get(\"entities\", [])\n",
    "        annotations_count.append(len(entities))\n",
    "        \n",
    "        for entity in entities:\n",
    "            if len(entity) >= 3:\n",
    "                annotation_labels.append(entity[2])\n",
    "            else:\n",
    "                print(f\"Unexpected entity format: {entity}\")\n",
    "\n",
    "    num_docs = len(text_lengths)\n",
    "    total_annotations = sum(annotations_count)\n",
    "    avg_text_length = sum(text_lengths) / num_docs if num_docs > 0 else 0\n",
    "    avg_annotations_per_doc = total_annotations / num_docs if num_docs > 0 else 0\n",
    "\n",
    "    metrics = {\n",
    "        \"total_documents\": num_docs,\n",
    "        \"total_annotations\": total_annotations,\n",
    "        \"avg_text_length\": avg_text_length,\n",
    "        \"avg_annotations_per_doc\": avg_annotations_per_doc,\n",
    "        \"annotation_labels\": annotation_labels\n",
    "    }\n",
    "    \n",
    "    return metrics"
   ]
  },
  {
   "cell_type": "code",
   "execution_count": 7,
   "id": "51bf0be8",
   "metadata": {
    "execution": {
     "iopub.execute_input": "2025-06-01T12:55:58.812557Z",
     "iopub.status.busy": "2025-06-01T12:55:58.812275Z",
     "iopub.status.idle": "2025-06-01T12:55:58.817027Z",
     "shell.execute_reply": "2025-06-01T12:55:58.816216Z"
    },
    "papermill": {
     "duration": 0.0108,
     "end_time": "2025-06-01T12:55:58.818450",
     "exception": false,
     "start_time": "2025-06-01T12:55:58.807650",
     "status": "completed"
    },
    "tags": []
   },
   "outputs": [],
   "source": [
    "def print_metrics(metrics):\n",
    "    print(\"========== Basic Dataset Statistics ==========\")\n",
    "    print(f\"Total documents: {metrics.get('total_documents', 0)}\")\n",
    "    print(f\"Total annotations: {metrics.get('total_annotations', 0)}\")\n",
    "    print(f\"Average text length: {metrics.get('avg_text_length', 0):.2f} characters\")\n",
    "    print(f\"Average annotations per document: {metrics.get('avg_annotations_per_doc', 0):.2f}\")"
   ]
  },
  {
   "cell_type": "code",
   "execution_count": 8,
   "id": "22870cdf",
   "metadata": {
    "execution": {
     "iopub.execute_input": "2025-06-01T12:55:58.827381Z",
     "iopub.status.busy": "2025-06-01T12:55:58.827082Z",
     "iopub.status.idle": "2025-06-01T12:55:58.834796Z",
     "shell.execute_reply": "2025-06-01T12:55:58.833725Z"
    },
    "papermill": {
     "duration": 0.013891,
     "end_time": "2025-06-01T12:55:58.836360",
     "exception": false,
     "start_time": "2025-06-01T12:55:58.822469",
     "status": "completed"
    },
    "tags": []
   },
   "outputs": [
    {
     "name": "stdout",
     "output_type": "stream",
     "text": [
      "========== Basic Dataset Statistics ==========\n",
      "Total documents: 1014\n",
      "Total annotations: 24253\n",
      "Average text length: 2082.54 characters\n",
      "Average annotations per document: 23.92\n"
     ]
    }
   ],
   "source": [
    "dataset1_infor = compute_metrics(cv_data)\n",
    "print_metrics(dataset1_infor)"
   ]
  },
  {
   "cell_type": "code",
   "execution_count": 9,
   "id": "6e20f827",
   "metadata": {
    "execution": {
     "iopub.execute_input": "2025-06-01T12:55:58.845719Z",
     "iopub.status.busy": "2025-06-01T12:55:58.844885Z",
     "iopub.status.idle": "2025-06-01T12:55:58.853811Z",
     "shell.execute_reply": "2025-06-01T12:55:58.852752Z"
    },
    "papermill": {
     "duration": 0.015089,
     "end_time": "2025-06-01T12:55:58.855283",
     "exception": false,
     "start_time": "2025-06-01T12:55:58.840194",
     "status": "completed"
    },
    "tags": []
   },
   "outputs": [
    {
     "name": "stdout",
     "output_type": "stream",
     "text": [
      "\n",
      "---------- Distinct Annotation Labels ----------\n",
      "LINKEDIN LINK: 1038\n",
      "SKILLS: 4349\n",
      "CERTIFICATION: 1670\n",
      "NAME: 1013\n",
      "LOCATION: 935\n",
      "COMPANIES WORKED AT: 3567\n",
      "WORKED AS: 4092\n",
      "YEARS OF EXPERIENCE: 3765\n",
      "COLLEGE NAME: 522\n",
      "DEGREE: 1235\n",
      "UNIVERSITY: 756\n",
      "YEAR OF GRADUATION: 232\n",
      "EMAIL ADDRESS: 30\n",
      "LANGUAGE: 803\n",
      "AWARDS: 242\n",
      "DESIGNATION: 1\n",
      "Unlabelled: 2\n",
      "CONTACT: 1\n"
     ]
    }
   ],
   "source": [
    "label_counter_1 = Counter(dataset1_infor['annotation_labels'])\n",
    "print(\"\\n---------- Distinct Annotation Labels ----------\")\n",
    "for label, count in label_counter_1.items():\n",
    "    print(f\"{label}: {count}\")"
   ]
  },
  {
   "cell_type": "code",
   "execution_count": 10,
   "id": "8eb1d2ff",
   "metadata": {
    "execution": {
     "iopub.execute_input": "2025-06-01T12:55:58.864207Z",
     "iopub.status.busy": "2025-06-01T12:55:58.863887Z",
     "iopub.status.idle": "2025-06-01T12:55:59.262914Z",
     "shell.execute_reply": "2025-06-01T12:55:59.261851Z"
    },
    "papermill": {
     "duration": 0.405943,
     "end_time": "2025-06-01T12:55:59.265229",
     "exception": false,
     "start_time": "2025-06-01T12:55:58.859286",
     "status": "completed"
    },
    "tags": []
   },
   "outputs": [
    {
     "data": {
      "image/png": "[encoded data removed]",
      "text/plain": [
       "<Figure size 1000x600 with 1 Axes>"
      ]
     },
     "metadata": {},
     "output_type": "display_data"
    }
   ],
   "source": [
    "import pandas as pd\n",
    "data = pd.DataFrame({\n",
    "    \"Annotation Label\": list(label_counter_1.keys()),\n",
    "    \"Frequency\": list(label_counter_1.values())\n",
    "})\n",
    "\n",
    "plt.figure(figsize=(10, 6))\n",
    "sns.barplot(data=data, x=\"Annotation Label\", y=\"Frequency\", palette=\"viridis\")\n",
    "plt.xlabel(\"Annotation Label\")\n",
    "plt.ylabel(\"Frequency\")\n",
    "plt.title(\"Frequency Distribution of Annotation Labels\")\n",
    "plt.xticks(rotation=45, ha='right')\n",
    "plt.tight_layout()\n",
    "plt.show()"
   ]
  },
  {
   "cell_type": "markdown",
   "id": "f964a144",
   "metadata": {
    "papermill": {
     "duration": 0.004859,
     "end_time": "2025-06-01T12:55:59.275972",
     "exception": false,
     "start_time": "2025-06-01T12:55:59.271113",
     "status": "completed"
    },
    "tags": []
   },
   "source": [
    "REMOVE LOW FREQUENCY LABELS"
   ]
  },
  {
   "cell_type": "code",
   "execution_count": 11,
   "id": "15b44d54",
   "metadata": {
    "execution": {
     "iopub.execute_input": "2025-06-01T12:55:59.287512Z",
     "iopub.status.busy": "2025-06-01T12:55:59.286941Z",
     "iopub.status.idle": "2025-06-01T12:55:59.292862Z",
     "shell.execute_reply": "2025-06-01T12:55:59.292115Z"
    },
    "papermill": {
     "duration": 0.013276,
     "end_time": "2025-06-01T12:55:59.294253",
     "exception": false,
     "start_time": "2025-06-01T12:55:59.280977",
     "status": "completed"
    },
    "tags": []
   },
   "outputs": [],
   "source": [
    "VALID_LABELS = {\n",
    "    \"LINKEDIN LINK\",\n",
    "    \"SKILLS\",\n",
    "    \"CERTIFICATION\",\n",
    "    \"NAME\",\n",
    "    \"LOCATION\",\n",
    "    \"COMPANIES WORKED AT\",\n",
    "    \"WORKED AS\",\n",
    "    \"YEARS OF EXPERIENCE\",\n",
    "    \"COLLEGE NAME\",\n",
    "    \"DEGREE\",\n",
    "    \"UNIVERSITY\",\n",
    "    \"YEAR OF GRADUATION\",\n",
    "    \"LANGUAGE\",\n",
    "    \"AWARDS\",\n",
    "    \"DESIGNATION\"\n",
    "}\n",
    "\n",
    "def remove_invalid_labels(dataset):\n",
    "    cleaned = []\n",
    "    for text, ann in dataset:\n",
    "        # print('TEXT: ',text[:10],'ANN: ',ann)\n",
    "        valid_entities = [\n",
    "            [start, end, label]\n",
    "            for start, end, label in ann.get(\"entities\", [])\n",
    "            if label in VALID_LABELS and start < end\n",
    "        ]\n",
    "        \n",
    "        if valid_entities:\n",
    "            cleaned.append([text, {\"entities\": valid_entities}])\n",
    "    return cleaned"
   ]
  },
  {
   "cell_type": "code",
   "execution_count": 12,
   "id": "dc6e7e6e",
   "metadata": {
    "execution": {
     "iopub.execute_input": "2025-06-01T12:55:59.307069Z",
     "iopub.status.busy": "2025-06-01T12:55:59.306123Z",
     "iopub.status.idle": "2025-06-01T12:55:59.326468Z",
     "shell.execute_reply": "2025-06-01T12:55:59.325720Z"
    },
    "papermill": {
     "duration": 0.028661,
     "end_time": "2025-06-01T12:55:59.328032",
     "exception": false,
     "start_time": "2025-06-01T12:55:59.299371",
     "status": "completed"
    },
    "tags": []
   },
   "outputs": [],
   "source": [
    "new_data = remove_invalid_labels(cv_data)"
   ]
  },
  {
   "cell_type": "code",
   "execution_count": 13,
   "id": "6d8268b8",
   "metadata": {
    "execution": {
     "iopub.execute_input": "2025-06-01T12:55:59.339836Z",
     "iopub.status.busy": "2025-06-01T12:55:59.339228Z",
     "iopub.status.idle": "2025-06-01T12:55:59.347992Z",
     "shell.execute_reply": "2025-06-01T12:55:59.347217Z"
    },
    "papermill": {
     "duration": 0.016112,
     "end_time": "2025-06-01T12:55:59.349367",
     "exception": false,
     "start_time": "2025-06-01T12:55:59.333255",
     "status": "completed"
    },
    "tags": []
   },
   "outputs": [],
   "source": [
    "def get_spacy_doc(error_log_file, data):\n",
    "    nlp = spacy.load(\"en_core_web_sm\")\n",
    "    db = DocBin()\n",
    "\n",
    "    for item in tqdm(data, desc=\"Processing documents\"):\n",
    "        try:\n",
    "            text, annotation_dict = item\n",
    "            \n",
    "            # Ensure text is properly encoded/decoded.\n",
    "            text = text.encode(\"utf-8\", errors=\"replace\").decode(\"utf-8\")\n",
    "            doc = nlp.make_doc(text)\n",
    "            ents = []\n",
    "            entity_indices = set()\n",
    "            \n",
    "            annotations = annotation_dict.get(\"entities\", [])\n",
    "            for annotation in annotations:\n",
    "                if len(annotation) < 3:\n",
    "                    error_log_file.write(f\"Skipping malformed annotation: {annotation}\\n\")\n",
    "                    continue\n",
    "\n",
    "                start, end, label = annotation\n",
    "                label = label.upper()\n",
    "                \n",
    "                # Skip this entity if any index in the span is already used.\n",
    "                if any(idx in entity_indices for idx in range(start, end)):\n",
    "                    continue\n",
    "                entity_indices.update(range(start, end))\n",
    "\n",
    "                span = doc.char_span(start, end, label=label, alignment_mode=\"strict\")\n",
    "                if span is None:\n",
    "                    error_log_file.write(\n",
    "                        f\"Skipping entity: {label} [{start}-{end}] in text:\\n{text[:100]}...\\n\"\n",
    "                    )\n",
    "                    continue\n",
    "                ents.append(span)\n",
    "            doc.ents = ents\n",
    "            db.add(doc)\n",
    "        except Exception as e:\n",
    "            error_log_file.write(f\"Error processing document starting with '{text[:50]}...': {e}\\n\")\n",
    "            continue\n",
    "\n",
    "    return db"
   ]
  },
  {
   "cell_type": "code",
   "execution_count": 14,
   "id": "6108edd8",
   "metadata": {
    "execution": {
     "iopub.execute_input": "2025-06-01T12:55:59.361179Z",
     "iopub.status.busy": "2025-06-01T12:55:59.360388Z",
     "iopub.status.idle": "2025-06-01T12:55:59.648646Z",
     "shell.execute_reply": "2025-06-01T12:55:59.647724Z"
    },
    "papermill": {
     "duration": 0.295723,
     "end_time": "2025-06-01T12:55:59.650315",
     "exception": false,
     "start_time": "2025-06-01T12:55:59.354592",
     "status": "completed"
    },
    "tags": []
   },
   "outputs": [],
   "source": [
    "from sklearn.model_selection import train_test_split\n",
    "train, test = train_test_split(new_data, test_size=0.3)"
   ]
  },
  {
   "cell_type": "code",
   "execution_count": 15,
   "id": "f57f5d83",
   "metadata": {
    "execution": {
     "iopub.execute_input": "2025-06-01T12:55:59.663383Z",
     "iopub.status.busy": "2025-06-01T12:55:59.663021Z",
     "iopub.status.idle": "2025-06-01T12:55:59.668638Z",
     "shell.execute_reply": "2025-06-01T12:55:59.667807Z"
    },
    "papermill": {
     "duration": 0.013578,
     "end_time": "2025-06-01T12:55:59.669970",
     "exception": false,
     "start_time": "2025-06-01T12:55:59.656392",
     "status": "completed"
    },
    "tags": []
   },
   "outputs": [
    {
     "data": {
      "text/plain": [
       "(709, 305)"
      ]
     },
     "execution_count": 15,
     "metadata": {},
     "output_type": "execute_result"
    }
   ],
   "source": [
    "len(train), len(test)"
   ]
  },
  {
   "cell_type": "code",
   "execution_count": 16,
   "id": "bb7e01a5",
   "metadata": {
    "execution": {
     "iopub.execute_input": "2025-06-01T12:55:59.681607Z",
     "iopub.status.busy": "2025-06-01T12:55:59.681065Z",
     "iopub.status.idle": "2025-06-01T12:56:09.165139Z",
     "shell.execute_reply": "2025-06-01T12:56:09.164334Z"
    },
    "papermill": {
     "duration": 9.4917,
     "end_time": "2025-06-01T12:56:09.166781",
     "exception": false,
     "start_time": "2025-06-01T12:55:59.675081",
     "status": "completed"
    },
    "tags": []
   },
   "outputs": [
    {
     "name": "stderr",
     "output_type": "stream",
     "text": [
      "Processing documents: 100%|██████████| 709/709 [00:04<00:00, 147.84it/s]\n",
      "Processing documents: 100%|██████████| 305/305 [00:02<00:00, 132.60it/s]\n"
     ]
    }
   ],
   "source": [
    "file = open(\"error_data.txt\", \"w\")\n",
    "db = get_spacy_doc(file, train)\n",
    "db.to_disk(\"train_data.spacy\")\n",
    "\n",
    "db = get_spacy_doc(file, test)\n",
    "db.to_disk(\"test_data.spacy\")\n",
    "\n",
    "file.close()"
   ]
  }
 ],
 "metadata": {
  "kaggle": {
   "accelerator": "none",
   "dataSources": [
    {
     "datasetId": 7566162,
     "sourceId": 12025773,
     "sourceType": "datasetVersion"
    }
   ],
   "dockerImageVersionId": 31040,
   "isGpuEnabled": false,
   "isInternetEnabled": true,
   "language": "python",
   "sourceType": "notebook"
  },
  "kernelspec": {
   "display_name": "Python 3",
   "language": "python",
   "name": "python3"
  },
  "language_info": {
   "codemirror_mode": {
    "name": "ipython",
    "version": 3
   },
   "file_extension": ".py",
   "mimetype": "text/x-python",
   "name": "python",
   "nbconvert_exporter": "python",
   "pygments_lexer": "ipython3",
   "version": "3.11.11"
  },
  "papermill": {
   "default_parameters": {},
   "duration": 31.141512,
   "end_time": "2025-06-01T12:56:12.144413",
   "environment_variables": {},
   "exception": null,
   "input_path": "__notebook__.ipynb",
   "output_path": "__notebook__.ipynb",
   "parameters": {},
   "start_time": "2025-06-01T12:55:41.002901",
   "version": "2.6.0"
  }
 },
 "nbformat": 4,
 "nbformat_minor": 5
}
