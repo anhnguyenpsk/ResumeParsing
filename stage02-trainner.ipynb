{
 "cells": [
  {
   "cell_type": "code",
   "execution_count": 1,
   "id": "5e35058b",
   "metadata": {
    "execution": {
     "iopub.execute_input": "2025-06-01T14:33:07.347536Z",
     "iopub.status.busy": "2025-06-01T14:33:07.347268Z",
     "iopub.status.idle": "2025-06-01T14:33:15.432661Z",
     "shell.execute_reply": "2025-06-01T14:33:15.431927Z"
    },
    "papermill": {
     "duration": 8.091825,
     "end_time": "2025-06-01T14:33:15.434169",
     "exception": false,
     "start_time": "2025-06-01T14:33:07.342344",
     "status": "completed"
    },
    "scrolled": true,
    "tags": []
   },
   "outputs": [
    {
     "name": "stdout",
     "output_type": "stream",
     "text": [
      "Requirement already satisfied: spacy in /usr/local/lib/python3.11/dist-packages (3.8.5)\r\n",
      "Collecting spacy\r\n",
      "  Downloading spacy-3.8.7-cp311-cp311-manylinux_2_17_x86_64.manylinux2014_x86_64.whl.metadata (27 kB)\r\n",
      "Requirement already satisfied: spacy-legacy<3.1.0,>=3.0.11 in /usr/local/lib/python3.11/dist-packages (from spacy) (3.0.12)\r\n",
      "Requirement already satisfied: spacy-loggers<2.0.0,>=1.0.0 in /usr/local/lib/python3.11/dist-packages (from spacy) (1.0.5)\r\n",
      "Requirement already satisfied: murmurhash<1.1.0,>=0.28.0 in /usr/local/lib/python3.11/dist-packages (from spacy) (1.0.12)\r\n",
      "Requirement already satisfied: cymem<2.1.0,>=2.0.2 in /usr/local/lib/python3.11/dist-packages (from spacy) (2.0.11)\r\n",
      "Requirement already satisfied: preshed<3.1.0,>=3.0.2 in /usr/local/lib/python3.11/dist-packages (from spacy) (3.0.9)\r\n",
      "Requirement already satisfied: thinc<8.4.0,>=8.3.4 in /usr/local/lib/python3.11/dist-packages (from spacy) (8.3.4)\r\n",
      "Requirement already satisfied: wasabi<1.2.0,>=0.9.1 in /usr/local/lib/python3.11/dist-packages (from spacy) (1.1.3)\r\n",
      "Requirement already satisfied: srsly<3.0.0,>=2.4.3 in /usr/local/lib/python3.11/dist-packages (from spacy) (2.5.1)\r\n",
      "Requirement already satisfied: catalogue<2.1.0,>=2.0.6 in /usr/local/lib/python3.11/dist-packages (from spacy) (2.0.10)\r\n",
      "Requirement already satisfied: weasel<0.5.0,>=0.1.0 in /usr/local/lib/python3.11/dist-packages (from spacy) (0.4.1)\r\n",
      "Requirement already satisfied: typer<1.0.0,>=0.3.0 in /usr/local/lib/python3.11/dist-packages (from spacy) (0.15.2)\r\n",
      "Requirement already satisfied: tqdm<5.0.0,>=4.38.0 in /usr/local/lib/python3.11/dist-packages (from spacy) (4.67.1)\r\n",
      "Requirement already satisfied: numpy>=1.19.0 in /usr/local/lib/python3.11/dist-packages (from spacy) (1.26.4)\r\n",
      "Requirement already satisfied: requests<3.0.0,>=2.13.0 in /usr/local/lib/python3.11/dist-packages (from spacy) (2.32.3)\r\n",
      "Requirement already satisfied: pydantic!=1.8,!=1.8.1,<3.0.0,>=1.7.4 in /usr/local/lib/python3.11/dist-packages (from spacy) (2.11.4)\r\n",
      "Requirement already satisfied: jinja2 in /usr/local/lib/python3.11/dist-packages (from spacy) (3.1.6)\r\n",
      "Requirement already satisfied: setuptools in /usr/local/lib/python3.11/dist-packages (from spacy) (75.2.0)\r\n",
      "Requirement already satisfied: packaging>=20.0 in /usr/local/lib/python3.11/dist-packages (from spacy) (25.0)\r\n",
      "Requirement already satisfied: langcodes<4.0.0,>=3.2.0 in /usr/local/lib/python3.11/dist-packages (from spacy) (3.5.0)\r\n",
      "Requirement already satisfied: language-data>=1.2 in /usr/local/lib/python3.11/dist-packages (from langcodes<4.0.0,>=3.2.0->spacy) (1.3.0)\r\n",
      "Requirement already satisfied: mkl_fft in /usr/local/lib/python3.11/dist-packages (from numpy>=1.19.0->spacy) (1.3.8)\r\n",
      "Requirement already satisfied: mkl_random in /usr/local/lib/python3.11/dist-packages (from numpy>=1.19.0->spacy) (1.2.4)\r\n",
      "Requirement already satisfied: mkl_umath in /usr/local/lib/python3.11/dist-packages (from numpy>=1.19.0->spacy) (0.1.1)\r\n",
      "Requirement already satisfied: mkl in /usr/local/lib/python3.11/dist-packages (from numpy>=1.19.0->spacy) (2025.1.0)\r\n",
      "Requirement already satisfied: tbb4py in /usr/local/lib/python3.11/dist-packages (from numpy>=1.19.0->spacy) (2022.1.0)\r\n",
      "Requirement already satisfied: mkl-service in /usr/local/lib/python3.11/dist-packages (from numpy>=1.19.0->spacy) (2.4.1)\r\n",
      "Requirement already satisfied: annotated-types>=0.6.0 in /usr/local/lib/python3.11/dist-packages (from pydantic!=1.8,!=1.8.1,<3.0.0,>=1.7.4->spacy) (0.7.0)\r\n",
      "Requirement already satisfied: pydantic-core==2.33.2 in /usr/local/lib/python3.11/dist-packages (from pydantic!=1.8,!=1.8.1,<3.0.0,>=1.7.4->spacy) (2.33.2)\r\n",
      "Requirement already satisfied: typing-extensions>=4.12.2 in /usr/local/lib/python3.11/dist-packages (from pydantic!=1.8,!=1.8.1,<3.0.0,>=1.7.4->spacy) (4.13.2)\r\n",
      "Requirement already satisfied: typing-inspection>=0.4.0 in /usr/local/lib/python3.11/dist-packages (from pydantic!=1.8,!=1.8.1,<3.0.0,>=1.7.4->spacy) (0.4.0)\r\n",
      "Requirement already satisfied: charset-normalizer<4,>=2 in /usr/local/lib/python3.11/dist-packages (from requests<3.0.0,>=2.13.0->spacy) (3.4.2)\r\n",
      "Requirement already satisfied: idna<4,>=2.5 in /usr/local/lib/python3.11/dist-packages (from requests<3.0.0,>=2.13.0->spacy) (3.10)\r\n",
      "Requirement already satisfied: urllib3<3,>=1.21.1 in /usr/local/lib/python3.11/dist-packages (from requests<3.0.0,>=2.13.0->spacy) (2.4.0)\r\n",
      "Requirement already satisfied: certifi>=2017.4.17 in /usr/local/lib/python3.11/dist-packages (from requests<3.0.0,>=2.13.0->spacy) (2025.4.26)\r\n",
      "Requirement already satisfied: blis<1.3.0,>=1.2.0 in /usr/local/lib/python3.11/dist-packages (from thinc<8.4.0,>=8.3.4->spacy) (1.2.1)\r\n",
      "Requirement already satisfied: confection<1.0.0,>=0.0.1 in /usr/local/lib/python3.11/dist-packages (from thinc<8.4.0,>=8.3.4->spacy) (0.1.5)\r\n",
      "Requirement already satisfied: click>=8.0.0 in /usr/local/lib/python3.11/dist-packages (from typer<1.0.0,>=0.3.0->spacy) (8.1.8)\r\n",
      "Requirement already satisfied: shellingham>=1.3.0 in /usr/local/lib/python3.11/dist-packages (from typer<1.0.0,>=0.3.0->spacy) (1.5.4)\r\n",
      "Requirement already satisfied: rich>=10.11.0 in /usr/local/lib/python3.11/dist-packages (from typer<1.0.0,>=0.3.0->spacy) (14.0.0)\r\n",
      "Requirement already satisfied: cloudpathlib<1.0.0,>=0.7.0 in /usr/local/lib/python3.11/dist-packages (from weasel<0.5.0,>=0.1.0->spacy) (0.21.0)\r\n",
      "Requirement already satisfied: smart-open<8.0.0,>=5.2.1 in /usr/local/lib/python3.11/dist-packages (from weasel<0.5.0,>=0.1.0->spacy) (7.1.0)\r\n",
      "Requirement already satisfied: MarkupSafe>=2.0 in /usr/local/lib/python3.11/dist-packages (from jinja2->spacy) (3.0.2)\r\n",
      "Requirement already satisfied: marisa-trie>=1.1.0 in /usr/local/lib/python3.11/dist-packages (from language-data>=1.2->langcodes<4.0.0,>=3.2.0->spacy) (1.2.1)\r\n",
      "Requirement already satisfied: markdown-it-py>=2.2.0 in /usr/local/lib/python3.11/dist-packages (from rich>=10.11.0->typer<1.0.0,>=0.3.0->spacy) (3.0.0)\r\n",
      "Requirement already satisfied: pygments<3.0.0,>=2.13.0 in /usr/local/lib/python3.11/dist-packages (from rich>=10.11.0->typer<1.0.0,>=0.3.0->spacy) (2.19.1)\r\n",
      "Requirement already satisfied: wrapt in /usr/local/lib/python3.11/dist-packages (from smart-open<8.0.0,>=5.2.1->weasel<0.5.0,>=0.1.0->spacy) (1.17.2)\r\n",
      "Requirement already satisfied: intel-openmp<2026,>=2024 in /usr/local/lib/python3.11/dist-packages (from mkl->numpy>=1.19.0->spacy) (2024.2.0)\r\n",
      "Requirement already satisfied: tbb==2022.* in /usr/local/lib/python3.11/dist-packages (from mkl->numpy>=1.19.0->spacy) (2022.1.0)\r\n",
      "Requirement already satisfied: tcmlib==1.* in /usr/local/lib/python3.11/dist-packages (from tbb==2022.*->mkl->numpy>=1.19.0->spacy) (1.3.0)\r\n",
      "Requirement already satisfied: intel-cmplr-lib-rt in /usr/local/lib/python3.11/dist-packages (from mkl_umath->numpy>=1.19.0->spacy) (2024.2.0)\r\n",
      "Requirement already satisfied: intel-cmplr-lib-ur==2024.2.0 in /usr/local/lib/python3.11/dist-packages (from intel-openmp<2026,>=2024->mkl->numpy>=1.19.0->spacy) (2024.2.0)\r\n",
      "Requirement already satisfied: mdurl~=0.1 in /usr/local/lib/python3.11/dist-packages (from markdown-it-py>=2.2.0->rich>=10.11.0->typer<1.0.0,>=0.3.0->spacy) (0.1.2)\r\n",
      "Downloading spacy-3.8.7-cp311-cp311-manylinux_2_17_x86_64.manylinux2014_x86_64.whl (33.0 MB)\r\n",
      "\u001b[2K   \u001b[90m━━━━━━━━━━━━━━━━━━━━━━━━━━━━━━━━━━━━━━━━\u001b[0m \u001b[32m33.0/33.0 MB\u001b[0m \u001b[31m58.3 MB/s\u001b[0m eta \u001b[36m0:00:00\u001b[0m\r\n",
      "\u001b[?25hInstalling collected packages: spacy\r\n",
      "  Attempting uninstall: spacy\r\n",
      "    Found existing installation: spacy 3.8.5\r\n",
      "    Uninstalling spacy-3.8.5:\r\n",
      "      Successfully uninstalled spacy-3.8.5\r\n",
      "Successfully installed spacy-3.8.7\r\n"
     ]
    }
   ],
   "source": [
    "!pip install -U spacy"
   ]
  },
  {
   "cell_type": "code",
   "execution_count": 2,
   "id": "1159551a",
   "metadata": {
    "execution": {
     "iopub.execute_input": "2025-06-01T14:33:15.443893Z",
     "iopub.status.busy": "2025-06-01T14:33:15.443620Z",
     "iopub.status.idle": "2025-06-01T14:33:24.606146Z",
     "shell.execute_reply": "2025-06-01T14:33:24.605385Z"
    },
    "papermill": {
     "duration": 9.169016,
     "end_time": "2025-06-01T14:33:24.607774",
     "exception": false,
     "start_time": "2025-06-01T14:33:15.438758",
     "status": "completed"
    },
    "tags": []
   },
   "outputs": [
    {
     "name": "stdout",
     "output_type": "stream",
     "text": [
      "\u001b[38;5;2m✔ Auto-filled config with all values\u001b[0m\r\n",
      "\u001b[38;5;2m✔ Saved config\u001b[0m\r\n",
      "config.cfg\r\n",
      "You can now add your data and train your pipeline:\r\n",
      "python -m spacy train config.cfg --paths.train ./train.spacy --paths.dev ./dev.spacy\r\n"
     ]
    }
   ],
   "source": [
    "!python -m spacy init fill-config /kaggle/input/ner-resume-input-final/base_config.cfg config.cfg"
   ]
  },
  {
   "cell_type": "code",
   "execution_count": 3,
   "id": "2a1b3226",
   "metadata": {
    "execution": {
     "iopub.execute_input": "2025-06-01T14:33:24.617505Z",
     "iopub.status.busy": "2025-06-01T14:33:24.617254Z",
     "iopub.status.idle": "2025-06-01T14:57:55.105956Z",
     "shell.execute_reply": "2025-06-01T14:57:55.105197Z"
    },
    "papermill": {
     "duration": 1470.495252,
     "end_time": "2025-06-01T14:57:55.107469",
     "exception": false,
     "start_time": "2025-06-01T14:33:24.612217",
     "status": "completed"
    },
    "tags": []
   },
   "outputs": [
    {
     "name": "stdout",
     "output_type": "stream",
     "text": [
      "\u001b[38;5;2m✔ Created output directory: /kaggle/working/output\u001b[0m\r\n",
      "\u001b[38;5;4mℹ Saving to output directory: /kaggle/working/output\u001b[0m\r\n",
      "\u001b[38;5;4mℹ Using GPU: 0\u001b[0m\r\n",
      "\u001b[1m\r\n",
      "=========================== Initializing pipeline ===========================\u001b[0m\r\n",
      "[2025-06-01 14:33:28,431] [INFO] Set up nlp object from config\r\n",
      "[2025-06-01 14:33:28,451] [INFO] Pipeline: ['tok2vec', 'ner']\r\n",
      "[2025-06-01 14:33:28,454] [INFO] Created vocabulary\r\n",
      "[2025-06-01 14:33:29,414] [WARNING] [W112] The model specified to use for initial vectors (en_core_web_sm) has no vectors. This is almost certainly a mistake.\r\n",
      "[2025-06-01 14:33:29,416] [INFO] Added vectors: en_core_web_sm\r\n",
      "[2025-06-01 14:33:29,416] [INFO] Finished initializing nlp object\r\n",
      "[2025-06-01 14:33:44,993] [INFO] Initialized pipeline components: ['tok2vec', 'ner']\r\n",
      "\u001b[38;5;2m✔ Initialized pipeline\u001b[0m\r\n",
      "\u001b[1m\r\n",
      "============================= Training pipeline =============================\u001b[0m\r\n",
      "\u001b[38;5;4mℹ Pipeline: ['tok2vec', 'ner']\u001b[0m\r\n",
      "\u001b[38;5;4mℹ Initial learn rate: 0.001\u001b[0m\r\n",
      "E    #       LOSS TOK2VEC  LOSS NER  ENTS_F  ENTS_P  ENTS_R  SCORE \r\n",
      "---  ------  ------------  --------  ------  ------  ------  ------\r\n",
      "  0       0          0.00   1475.76    0.00    0.00    0.00    0.00\r\n",
      "  0     200       2396.16  12586.62   34.15   34.47   33.84    0.34\r\n",
      "  0     400       1576.49   8394.19   53.15   51.70   54.69    0.53\r\n",
      "  0     600       5052.89   7185.05   65.56   63.62   67.61    0.66\r\n",
      "  1     800       1006.54   5460.61   67.56   74.05   62.12    0.68\r\n",
      "  1    1000       1099.91   4428.53   70.52   69.13   71.97    0.71\r\n",
      "  1    1200        676.02   3952.40   72.60   75.24   70.15    0.73\r\n",
      "  1    1400       1492.16   5114.35   72.64   77.78   68.13    0.73\r\n",
      "  2    1600        463.78   3370.04   75.36   75.06   75.65    0.75\r\n",
      "  2    1800        621.64   3335.44   75.82   77.34   74.36    0.76\r\n",
      "  2    2000        899.41   3656.48   75.05   73.54   76.62    0.75\r\n",
      "  3    2200        491.49   2667.61   76.87   80.86   73.26    0.77\r\n",
      "  3    2400        944.95   2899.00   75.98   74.08   77.98    0.76\r\n",
      "  3    2600        665.99   3178.84   78.96   79.22   78.71    0.79\r\n",
      "  3    2800       1151.24   3217.30   77.38   78.95   75.86    0.77\r\n",
      "  4    3000       1153.70   2853.39   76.79   76.97   76.62    0.77\r\n",
      "  4    3200       1162.37   2713.68   78.02   79.56   76.55    0.78\r\n",
      "  4    3400       1084.49   2959.64   76.44   74.57   78.41    0.76\r\n",
      "  5    3600        579.06   2708.20   79.06   80.38   77.78    0.79\r\n",
      "  5    3800        597.66   2721.83   78.11   76.84   79.42    0.78\r\n",
      "  5    4000       1405.92   3021.72   78.10   78.76   77.44    0.78\r\n",
      "  6    4200        742.27   2685.94   77.69   79.50   75.96    0.78\r\n",
      "  6    4400        951.56   3125.15   77.52   77.52   77.53    0.78\r\n",
      "  7    4600        975.91   2859.94   78.72   81.32   76.28    0.79\r\n",
      "  7    4800       1288.77   3596.46   78.80   80.73   76.96    0.79\r\n",
      "  8    5000        827.73   3180.05   79.41   79.53   79.29    0.79\r\n",
      "  8    5200        983.50   3094.29   79.27   79.53   79.01    0.79\r\n",
      "  9    5400        811.87   2962.13   80.41   80.74   80.09    0.80\r\n",
      " 10    5600        935.10   3127.76   78.35   77.87   78.84    0.78\r\n",
      " 10    5800       1070.63   2674.56   78.81   80.93   76.79    0.79\r\n",
      " 11    6000       2311.54   3077.24   77.64   78.30   76.99    0.78\r\n",
      " 11    6200       2010.06   2786.67   78.58   78.01   79.16    0.79\r\n",
      " 12    6400       1198.54   2536.91   79.68   81.72   77.74    0.80\r\n",
      " 13    6600        947.57   2625.01   79.41   79.74   79.09    0.79\r\n",
      " 13    6800        983.59   2346.82   78.77   77.86   79.69    0.79\r\n",
      " 14    7000       1226.49   2348.99   78.64   78.18   79.11    0.79\r\n",
      "\u001b[38;5;2m✔ Saved pipeline to output directory\u001b[0m\r\n",
      "/kaggle/working/output/model-last\r\n"
     ]
    }
   ],
   "source": [
    "!python -m spacy train /kaggle/input/ner-resume-input-final/config.cfg \\\n",
    "--output /kaggle/working/output \\\n",
    "--paths.train /kaggle/input/ner-train-final/train_data.spacy \\\n",
    "--paths.dev /kaggle/input/ner-train-final/test_data.spacy \\\n",
    "--gpu-id 0"
   ]
  },
  {
   "cell_type": "markdown",
   "id": "647096d5",
   "metadata": {
    "papermill": {
     "duration": 0.005592,
     "end_time": "2025-06-01T14:57:55.119012",
     "exception": false,
     "start_time": "2025-06-01T14:57:55.113420",
     "status": "completed"
    },
    "tags": []
   },
   "source": [
    "**MODEL TESTING**"
   ]
  },
  {
   "cell_type": "code",
   "execution_count": 4,
   "id": "d8d42e8a",
   "metadata": {
    "execution": {
     "iopub.execute_input": "2025-06-01T14:57:55.131319Z",
     "iopub.status.busy": "2025-06-01T14:57:55.131076Z",
     "iopub.status.idle": "2025-06-01T14:57:59.100892Z",
     "shell.execute_reply": "2025-06-01T14:57:59.100235Z"
    },
    "papermill": {
     "duration": 3.97772,
     "end_time": "2025-06-01T14:57:59.102190",
     "exception": false,
     "start_time": "2025-06-01T14:57:55.124470",
     "status": "completed"
    },
    "tags": []
   },
   "outputs": [
    {
     "name": "stderr",
     "output_type": "stream",
     "text": [
      "/usr/local/lib/python3.11/dist-packages/spacy/util.py:922: UserWarning: [W095] Model 'en_pipeline' (0.0.0) was trained with spaCy v3.4.4 and may not be 100% compatible with the current version (3.8.7). If you see errors or degraded performance, download a newer compatible model or retrain your custom model with the current spaCy version. For more details and available updates, run: python -m spacy validate\n",
      "  warnings.warn(warn_msg)\n"
     ]
    }
   ],
   "source": [
    "# Load model\n",
    "import spacy\n",
    "nlp_ner = spacy.load('/kaggle/input/output/pytorch/default/1/output/model-best')"
   ]
  },
  {
   "cell_type": "code",
   "execution_count": 5,
   "id": "254053f6",
   "metadata": {
    "execution": {
     "iopub.execute_input": "2025-06-01T14:57:59.117244Z",
     "iopub.status.busy": "2025-06-01T14:57:59.116863Z",
     "iopub.status.idle": "2025-06-01T14:58:03.959210Z",
     "shell.execute_reply": "2025-06-01T14:58:03.958397Z"
    },
    "papermill": {
     "duration": 4.851556,
     "end_time": "2025-06-01T14:58:03.960770",
     "exception": false,
     "start_time": "2025-06-01T14:57:59.109214",
     "status": "completed"
    },
    "tags": []
   },
   "outputs": [
    {
     "name": "stdout",
     "output_type": "stream",
     "text": [
      "Collecting PyMuPDF\r\n",
      "  Downloading pymupdf-1.26.0-cp39-abi3-manylinux2014_x86_64.manylinux_2_17_x86_64.whl.metadata (3.4 kB)\r\n",
      "Downloading pymupdf-1.26.0-cp39-abi3-manylinux2014_x86_64.manylinux_2_17_x86_64.whl (24.1 MB)\r\n",
      "\u001b[2K   \u001b[90m━━━━━━━━━━━━━━━━━━━━━━━━━━━━━━━━━━━━━━━━\u001b[0m \u001b[32m24.1/24.1 MB\u001b[0m \u001b[31m81.1 MB/s\u001b[0m eta \u001b[36m0:00:00\u001b[0m\r\n",
      "\u001b[?25hInstalling collected packages: PyMuPDF\r\n",
      "Successfully installed PyMuPDF-1.26.0\r\n"
     ]
    }
   ],
   "source": [
    "!pip install PyMuPDF"
   ]
  },
  {
   "cell_type": "code",
   "execution_count": 6,
   "id": "58e7ac5a",
   "metadata": {
    "execution": {
     "iopub.execute_input": "2025-06-01T14:58:03.974413Z",
     "iopub.status.busy": "2025-06-01T14:58:03.974157Z",
     "iopub.status.idle": "2025-06-01T14:58:04.079457Z",
     "shell.execute_reply": "2025-06-01T14:58:04.078620Z"
    },
    "papermill": {
     "duration": 0.113492,
     "end_time": "2025-06-01T14:58:04.080707",
     "exception": false,
     "start_time": "2025-06-01T14:58:03.967215",
     "status": "completed"
    },
    "tags": []
   },
   "outputs": [
    {
     "name": "stdout",
     "output_type": "stream",
     "text": [
      "Alice Clark  AI / Machine Learning    Delhi, India Email me on Indeed  •  20+ years of experience in data handling, design, and development  •  Data Warehouse: Data analysis, star/snow flake scema data modelling and design specific to  data warehousing and business intelligence  •  Database: Experience in database designing, scalability, back-up and recovery, writing and  optimizing SQL code and Stored Procedures, creating functions, views, triggers and indexes.  Cloud platform: Worked on Microsoft Azure cloud services like Document DB, SQL Azure,  Stream Analytics, Event hub, Power BI, Web Job, Web App, Power BI, Azure data lake  analytics(U-SQL)  Willing to relocate anywhere    WORK EXPERIENCE  Software Engineer  Microsoft – Bangalore, Karnataka  January 2000 to Present  1. Microsoft Rewards Live dashboards:  Description: - Microsoft rewards is loyalty program that rewards Users for browsing and shopping  online. Microsoft Rewards members can earn points when searching with Bing, browsing with  Microsoft Edge and making purchases at the Xbox Store, the Windows Store and the Microsoft  Store. Plus, user can pick up bonus points for taking daily quizzes and tours on the Microsoft  rewards website. Rewards live dashboards gives a live picture of usage world-wide and by  markets like US, Canada, Australia, new user registration count, top/bottom performing rewards  offers, orders stats and weekly trends of user activities, orders and new user registrations. the  PBI tiles gets refreshed in different frequencies starting from 5 seconds to 30 minutes.  Technology/Tools used    EDUCATION  Indian Institute of Technology – Mumbai  2001    SKILLS  Machine Learning, Natural Language Processing, and Big Data Handling    ADDITIONAL INFORMATION  Professional Skills  • Excellent analytical, problem solving, communication, knowledge transfer and interpersonal  skills with ability to interact with individuals at all the levels  • Quick learner and maintains cordial relationship with project manager and team members and  good performer both in team and independent job environments  • Positive attitude towards superiors &amp; peers  • Supervised junior developers throughout project lifecycle and provided technical assistance  \n"
     ]
    }
   ],
   "source": [
    "import sys, fitz\n",
    "fname = '/kaggle/input/testresume/Alice Clark CV.pdf'\n",
    "doc = fitz.open(fname)\n",
    "text = \"\"\n",
    "for page in doc:\n",
    "    text = text + str(page.get_text())\n",
    "\n",
    "tx = \" \".join(text.split('\\n'))\n",
    "print(tx)"
   ]
  },
  {
   "cell_type": "code",
   "execution_count": 7,
   "id": "832a84bd",
   "metadata": {
    "execution": {
     "iopub.execute_input": "2025-06-01T14:58:04.093846Z",
     "iopub.status.busy": "2025-06-01T14:58:04.093585Z",
     "iopub.status.idle": "2025-06-01T14:58:04.222324Z",
     "shell.execute_reply": "2025-06-01T14:58:04.221442Z"
    },
    "papermill": {
     "duration": 0.136611,
     "end_time": "2025-06-01T14:58:04.223610",
     "exception": false,
     "start_time": "2025-06-01T14:58:04.086999",
     "status": "completed"
    },
    "tags": []
   },
   "outputs": [
    {
     "name": "stdout",
     "output_type": "stream",
     "text": [
      "NAME                          - Alice Clark\n",
      "SKILLS                        - Data analysis\n",
      "SKILLS                        - Microsoft Azure cloud services\n",
      "SKILLS                        - SQL\n",
      "SKILLS                        - Power BI\n",
      "SKILLS                        - Web Job\n",
      "SKILLS                        - Power BI\n",
      "DESIGNATION                   - Software Engineer\n",
      "INSTITUTE                     - Indian Institute of Technology – Mumbai\n",
      "SKILLS                        - Machine Learning\n",
      "SKILLS                        - Big Data Handling\n",
      "SKILLS                        - problem solving\n",
      "SKILLS                        - communication\n",
      "SKILLS                        - maintains cordial relationship with project\n"
     ]
    }
   ],
   "source": [
    "doc = nlp_ner(tx)\n",
    "for ent in doc.ents:\n",
    "    print(f'{ent.label_.upper():{30}}- {ent.text}')"
   ]
  },
  {
   "cell_type": "code",
   "execution_count": 8,
   "id": "3e477826",
   "metadata": {
    "execution": {
     "iopub.execute_input": "2025-06-01T14:58:04.237568Z",
     "iopub.status.busy": "2025-06-01T14:58:04.237122Z",
     "iopub.status.idle": "2025-06-01T14:58:04.244635Z",
     "shell.execute_reply": "2025-06-01T14:58:04.243955Z"
    },
    "papermill": {
     "duration": 0.015583,
     "end_time": "2025-06-01T14:58:04.245770",
     "exception": false,
     "start_time": "2025-06-01T14:58:04.230187",
     "status": "completed"
    },
    "tags": []
   },
   "outputs": [
    {
     "data": {
      "text/html": [
       "<span class=\"tex2jax_ignore\"><div class=\"entities\" style=\"line-height: 2.5; direction: ltr\">\n",
       "<mark class=\"entity\" style=\"background: #ddd; padding: 0.45em 0.6em; margin: 0 0.25em; line-height: 1; border-radius: 0.35em;\">\n",
       "    Alice Clark\n",
       "    <span style=\"font-size: 0.8em; font-weight: bold; line-height: 1; border-radius: 0.35em; vertical-align: middle; margin-left: 0.5rem\">NAME</span>\n",
       "</mark>\n",
       "  AI / Machine Learning    Delhi, India Email me on Indeed  •  20+ years of experience in data handling, design, and development  •  Data Warehouse: \n",
       "<mark class=\"entity\" style=\"background: #ddd; padding: 0.45em 0.6em; margin: 0 0.25em; line-height: 1; border-radius: 0.35em;\">\n",
       "    Data analysis\n",
       "    <span style=\"font-size: 0.8em; font-weight: bold; line-height: 1; border-radius: 0.35em; vertical-align: middle; margin-left: 0.5rem\">SKILLS</span>\n",
       "</mark>\n",
       ", star/snow flake scema data modelling and design specific to  data warehousing and business intelligence  •  Database: Experience in database designing, scalability, back-up and recovery, writing and  optimizing SQL code and Stored Procedures, creating functions, views, triggers and indexes.  Cloud platform: Worked on \n",
       "<mark class=\"entity\" style=\"background: #ddd; padding: 0.45em 0.6em; margin: 0 0.25em; line-height: 1; border-radius: 0.35em;\">\n",
       "    Microsoft Azure cloud services\n",
       "    <span style=\"font-size: 0.8em; font-weight: bold; line-height: 1; border-radius: 0.35em; vertical-align: middle; margin-left: 0.5rem\">SKILLS</span>\n",
       "</mark>\n",
       " like Document DB, \n",
       "<mark class=\"entity\" style=\"background: #ddd; padding: 0.45em 0.6em; margin: 0 0.25em; line-height: 1; border-radius: 0.35em;\">\n",
       "    SQL\n",
       "    <span style=\"font-size: 0.8em; font-weight: bold; line-height: 1; border-radius: 0.35em; vertical-align: middle; margin-left: 0.5rem\">SKILLS</span>\n",
       "</mark>\n",
       " Azure,  Stream Analytics, Event hub, \n",
       "<mark class=\"entity\" style=\"background: #ddd; padding: 0.45em 0.6em; margin: 0 0.25em; line-height: 1; border-radius: 0.35em;\">\n",
       "    Power BI\n",
       "    <span style=\"font-size: 0.8em; font-weight: bold; line-height: 1; border-radius: 0.35em; vertical-align: middle; margin-left: 0.5rem\">SKILLS</span>\n",
       "</mark>\n",
       ", \n",
       "<mark class=\"entity\" style=\"background: #ddd; padding: 0.45em 0.6em; margin: 0 0.25em; line-height: 1; border-radius: 0.35em;\">\n",
       "    Web Job\n",
       "    <span style=\"font-size: 0.8em; font-weight: bold; line-height: 1; border-radius: 0.35em; vertical-align: middle; margin-left: 0.5rem\">SKILLS</span>\n",
       "</mark>\n",
       ", Web App, \n",
       "<mark class=\"entity\" style=\"background: #ddd; padding: 0.45em 0.6em; margin: 0 0.25em; line-height: 1; border-radius: 0.35em;\">\n",
       "    Power BI\n",
       "    <span style=\"font-size: 0.8em; font-weight: bold; line-height: 1; border-radius: 0.35em; vertical-align: middle; margin-left: 0.5rem\">SKILLS</span>\n",
       "</mark>\n",
       ", Azure data lake  analytics(U-SQL)  Willing to relocate anywhere    WORK EXPERIENCE  \n",
       "<mark class=\"entity\" style=\"background: #ddd; padding: 0.45em 0.6em; margin: 0 0.25em; line-height: 1; border-radius: 0.35em;\">\n",
       "    Software Engineer\n",
       "    <span style=\"font-size: 0.8em; font-weight: bold; line-height: 1; border-radius: 0.35em; vertical-align: middle; margin-left: 0.5rem\">DESIGNATION</span>\n",
       "</mark>\n",
       "  Microsoft – Bangalore, Karnataka  January 2000 to Present  1. Microsoft Rewards Live dashboards:  Description: - Microsoft rewards is loyalty program that rewards Users for browsing and shopping  online. Microsoft Rewards members can earn points when searching with Bing, browsing with  Microsoft Edge and making purchases at the Xbox Store, the Windows Store and the Microsoft  Store. Plus, user can pick up bonus points for taking daily quizzes and tours on the Microsoft  rewards website. Rewards live dashboards gives a live picture of usage world-wide and by  markets like US, Canada, Australia, new user registration count, top/bottom performing rewards  offers, orders stats and weekly trends of user activities, orders and new user registrations. the  PBI tiles gets refreshed in different frequencies starting from 5 seconds to 30 minutes.  Technology/Tools used    EDUCATION  \n",
       "<mark class=\"entity\" style=\"background: #ddd; padding: 0.45em 0.6em; margin: 0 0.25em; line-height: 1; border-radius: 0.35em;\">\n",
       "    Indian Institute of Technology – Mumbai\n",
       "    <span style=\"font-size: 0.8em; font-weight: bold; line-height: 1; border-radius: 0.35em; vertical-align: middle; margin-left: 0.5rem\">INSTITUTE </span>\n",
       "</mark>\n",
       "  2001    SKILLS  \n",
       "<mark class=\"entity\" style=\"background: #ddd; padding: 0.45em 0.6em; margin: 0 0.25em; line-height: 1; border-radius: 0.35em;\">\n",
       "    Machine Learning\n",
       "    <span style=\"font-size: 0.8em; font-weight: bold; line-height: 1; border-radius: 0.35em; vertical-align: middle; margin-left: 0.5rem\">SKILLS</span>\n",
       "</mark>\n",
       ", Natural Language Processing, and \n",
       "<mark class=\"entity\" style=\"background: #ddd; padding: 0.45em 0.6em; margin: 0 0.25em; line-height: 1; border-radius: 0.35em;\">\n",
       "    Big Data Handling\n",
       "    <span style=\"font-size: 0.8em; font-weight: bold; line-height: 1; border-radius: 0.35em; vertical-align: middle; margin-left: 0.5rem\">SKILLS</span>\n",
       "</mark>\n",
       "    ADDITIONAL INFORMATION  Professional Skills  • Excellent analytical, \n",
       "<mark class=\"entity\" style=\"background: #ddd; padding: 0.45em 0.6em; margin: 0 0.25em; line-height: 1; border-radius: 0.35em;\">\n",
       "    problem solving\n",
       "    <span style=\"font-size: 0.8em; font-weight: bold; line-height: 1; border-radius: 0.35em; vertical-align: middle; margin-left: 0.5rem\">SKILLS</span>\n",
       "</mark>\n",
       ", \n",
       "<mark class=\"entity\" style=\"background: #ddd; padding: 0.45em 0.6em; margin: 0 0.25em; line-height: 1; border-radius: 0.35em;\">\n",
       "    communication\n",
       "    <span style=\"font-size: 0.8em; font-weight: bold; line-height: 1; border-radius: 0.35em; vertical-align: middle; margin-left: 0.5rem\">SKILLS</span>\n",
       "</mark>\n",
       ", knowledge transfer and interpersonal  skills with ability to interact with individuals at all the levels  • Quick learner and \n",
       "<mark class=\"entity\" style=\"background: #ddd; padding: 0.45em 0.6em; margin: 0 0.25em; line-height: 1; border-radius: 0.35em;\">\n",
       "    maintains cordial relationship with project\n",
       "    <span style=\"font-size: 0.8em; font-weight: bold; line-height: 1; border-radius: 0.35em; vertical-align: middle; margin-left: 0.5rem\">SKILLS</span>\n",
       "</mark>\n",
       " manager and team members and  good performer both in team and independent job environments  • Positive attitude towards superiors &amp;amp; peers  • Supervised junior developers throughout project lifecycle and provided technical assistance  </div></span>"
      ],
      "text/plain": [
       "<IPython.core.display.HTML object>"
      ]
     },
     "metadata": {},
     "output_type": "display_data"
    }
   ],
   "source": [
    "from spacy import displacy\n",
    "displacy.render(doc, style=\"ent\", jupyter=True)"
   ]
  },
  {
   "cell_type": "markdown",
   "id": "2f93fdf3",
   "metadata": {
    "papermill": {
     "duration": 0.005991,
     "end_time": "2025-06-01T14:58:04.257888",
     "exception": false,
     "start_time": "2025-06-01T14:58:04.251897",
     "status": "completed"
    },
    "tags": []
   },
   "source": [
    "**RANKING RESUMES**"
   ]
  },
  {
   "cell_type": "code",
   "execution_count": 9,
   "id": "fdb62383",
   "metadata": {
    "execution": {
     "iopub.execute_input": "2025-06-01T14:58:04.271284Z",
     "iopub.status.busy": "2025-06-01T14:58:04.270589Z",
     "iopub.status.idle": "2025-06-01T14:58:05.651269Z",
     "shell.execute_reply": "2025-06-01T14:58:05.650491Z"
    },
    "papermill": {
     "duration": 1.388783,
     "end_time": "2025-06-01T14:58:05.652726",
     "exception": false,
     "start_time": "2025-06-01T14:58:04.263943",
     "status": "completed"
    },
    "tags": []
   },
   "outputs": [],
   "source": [
    "import spacy\n",
    "import os\n",
    "import glob\n",
    "import numpy as np\n",
    "import pandas as pd"
   ]
  },
  {
   "cell_type": "code",
   "execution_count": 10,
   "id": "37e71870",
   "metadata": {
    "execution": {
     "iopub.execute_input": "2025-06-01T14:58:05.667664Z",
     "iopub.status.busy": "2025-06-01T14:58:05.666750Z",
     "iopub.status.idle": "2025-06-01T14:58:05.671184Z",
     "shell.execute_reply": "2025-06-01T14:58:05.670485Z"
    },
    "papermill": {
     "duration": 0.012684,
     "end_time": "2025-06-01T14:58:05.672387",
     "exception": false,
     "start_time": "2025-06-01T14:58:05.659703",
     "status": "completed"
    },
    "tags": []
   },
   "outputs": [],
   "source": [
    "def extract_entities(text, target_labels=None):\n",
    "    doc = nlp(text)\n",
    "    if target_labels:\n",
    "        entities = [ent.text for ent in doc.ents if ent.label_ in target_labels]\n",
    "    else:\n",
    "        entities = [ent.text for ent in doc.ents]\n",
    "    return entities"
   ]
  },
  {
   "cell_type": "code",
   "execution_count": 11,
   "id": "5f85c4ba",
   "metadata": {
    "execution": {
     "iopub.execute_input": "2025-06-01T14:58:05.685799Z",
     "iopub.status.busy": "2025-06-01T14:58:05.685504Z",
     "iopub.status.idle": "2025-06-01T14:58:05.689975Z",
     "shell.execute_reply": "2025-06-01T14:58:05.689300Z"
    },
    "papermill": {
     "duration": 0.012564,
     "end_time": "2025-06-01T14:58:05.691089",
     "exception": false,
     "start_time": "2025-06-01T14:58:05.678525",
     "status": "completed"
    },
    "tags": []
   },
   "outputs": [],
   "source": [
    "def entity_similarity(jd_entities, resume_entities):\n",
    "    \"\"\"\n",
    "    For each entity from the job description, compute the maximum similarity score\n",
    "    to any entity in the resume. Return the average of these best match scores.\n",
    "    \"\"\"\n",
    "    scores = []\n",
    "    for jd_ent in jd_entities:\n",
    "        jd_ent_doc = nlp(jd_ent)\n",
    "        best_sim = 0.0\n",
    "        for res_ent in resume_entities:\n",
    "            res_ent_doc = nlp(res_ent)\n",
    "            sim = jd_ent_doc.similarity(res_ent_doc)\n",
    "            best_sim = max(best_sim, sim)\n",
    "        scores.append(best_sim)\n",
    "    if scores:\n",
    "        return np.mean(scores)\n",
    "    return 0.0"
   ]
  },
  {
   "cell_type": "code",
   "execution_count": 12,
   "id": "13f466be",
   "metadata": {
    "execution": {
     "iopub.execute_input": "2025-06-01T14:58:05.704419Z",
     "iopub.status.busy": "2025-06-01T14:58:05.703958Z",
     "iopub.status.idle": "2025-06-01T14:58:05.707726Z",
     "shell.execute_reply": "2025-06-01T14:58:05.707040Z"
    },
    "papermill": {
     "duration": 0.011651,
     "end_time": "2025-06-01T14:58:05.708817",
     "exception": false,
     "start_time": "2025-06-01T14:58:05.697166",
     "status": "completed"
    },
    "tags": []
   },
   "outputs": [],
   "source": [
    "def text_similarity(jd_text, resume_text):\n",
    "    \"\"\"\n",
    "    Use spaCy’s document-level similarity. This works well if your spaCy model\n",
    "    uses vector representations that capture semantic meaning.\n",
    "    \"\"\"\n",
    "    doc_jd = nlp(jd_text)\n",
    "    doc_resume = nlp(resume_text)\n",
    "    return doc_jd.similarity(doc_resume)"
   ]
  },
  {
   "cell_type": "code",
   "execution_count": 13,
   "id": "af5f8ba4",
   "metadata": {
    "execution": {
     "iopub.execute_input": "2025-06-01T14:58:05.721755Z",
     "iopub.status.busy": "2025-06-01T14:58:05.721544Z",
     "iopub.status.idle": "2025-06-01T14:58:05.725700Z",
     "shell.execute_reply": "2025-06-01T14:58:05.725035Z"
    },
    "papermill": {
     "duration": 0.011896,
     "end_time": "2025-06-01T14:58:05.726849",
     "exception": false,
     "start_time": "2025-06-01T14:58:05.714953",
     "status": "completed"
    },
    "tags": []
   },
   "outputs": [],
   "source": [
    "def resume_score(jd_text, resume_text, w_entity=0.5, w_text=0.5, target_labels=None):\n",
    "    \"\"\"\n",
    "    Compute a combined matching score between the job description and a resume.\n",
    "    \n",
    "    Parameters:\n",
    "      jd_text (str): The job description text.\n",
    "      resume_text (str): The candidate's resume text.\n",
    "      w_entity (float): Weight given to the entity-level matching score.\n",
    "      w_text (float): Weight given to the overall text similarity score.\n",
    "      target_labels (list or None): If provided, only these entity types are considered \n",
    "                                    (e.g., [\"SKILL\", \"EDUCATION\"]). If None, all entities are used.\n",
    "    \n",
    "    Returns:\n",
    "      combined_score (float): A weighted score reflecting the similarity between JD and resume.\n",
    "    \"\"\"\n",
    "    jd_entities = extract_entities(jd_text, target_labels)\n",
    "    resume_entities = extract_entities(resume_text, target_labels)\n",
    "    \n",
    "    # Compute entity-based score (ranges from 0 to 1)\n",
    "    ent_score = entity_similarity(jd_entities, resume_entities)\n",
    "    # Compute full text similarity score (ranges from 0 to 1 typically)\n",
    "    txt_score = text_similarity(jd_text, resume_text)\n",
    "    \n",
    "    # Combined score using a weighted average\n",
    "    combined_score = w_entity * ent_score + w_text * txt_score\n",
    "    return combined_score"
   ]
  },
  {
   "cell_type": "code",
   "execution_count": 14,
   "id": "b81cea95",
   "metadata": {
    "execution": {
     "iopub.execute_input": "2025-06-01T14:58:05.739921Z",
     "iopub.status.busy": "2025-06-01T14:58:05.739547Z",
     "iopub.status.idle": "2025-06-01T14:58:06.502279Z",
     "shell.execute_reply": "2025-06-01T14:58:06.501680Z"
    },
    "papermill": {
     "duration": 0.770823,
     "end_time": "2025-06-01T14:58:06.503742",
     "exception": false,
     "start_time": "2025-06-01T14:58:05.732919",
     "status": "completed"
    },
    "tags": []
   },
   "outputs": [],
   "source": [
    "from pypdf import PdfReader\n",
    "nlp = spacy.load(\"en_core_web_sm\")\n",
    "def extract_pdf_text(pdf_path):\n",
    "    \"\"\"\n",
    "    Extract and concatenate text from all pages of a PDF file.\n",
    "    \"\"\"\n",
    "    text = \"\"\n",
    "    try:\n",
    "        reader = PdfReader(pdf_path)\n",
    "        for page in reader.pages:\n",
    "            page_text = page.extract_text()\n",
    "            if page_text:\n",
    "                text += page_text + \" \"\n",
    "    except Exception as e:\n",
    "        print(f\"Error extracting text from {pdf_path}: {e}\")\n",
    "    return text.strip()"
   ]
  },
  {
   "cell_type": "code",
   "execution_count": 15,
   "id": "a120e5ad",
   "metadata": {
    "execution": {
     "iopub.execute_input": "2025-06-01T14:58:06.517751Z",
     "iopub.status.busy": "2025-06-01T14:58:06.517311Z",
     "iopub.status.idle": "2025-06-01T14:58:06.522527Z",
     "shell.execute_reply": "2025-06-01T14:58:06.521782Z"
    },
    "papermill": {
     "duration": 0.013367,
     "end_time": "2025-06-01T14:58:06.523734",
     "exception": false,
     "start_time": "2025-06-01T14:58:06.510367",
     "status": "completed"
    },
    "tags": []
   },
   "outputs": [],
   "source": [
    "import re\n",
    "def extract_candidate_details(text):\n",
    "    \"\"\"\n",
    "    Use spaCy NER to extract candidate name and email.\n",
    "    For the name, use the first detected 'PERSON' entity.\n",
    "    For the email, look for an entity with label 'EMAIL' or use a regex fallback.\n",
    "    \"\"\"\n",
    "    doc = nlp(text)\n",
    "    \n",
    "    name_entities = [ent.text.strip() for ent in doc.ents if ent.label_ == \"PERSON\"]\n",
    "    name = name_entities[0] if name_entities else \"N/A\"\n",
    "    \n",
    "    email_entities = [ent.text.strip() for ent in doc.ents if ent.label_ == \"EMAIL\"]\n",
    "    if email_entities:\n",
    "        email = email_entities[0]\n",
    "    else:\n",
    "        # Fallback to regex to extract email.\n",
    "        email_matches = re.findall(r\"[A-Za-z0-9._%+-]+@[A-Za-z0-9.-]+\\.[A-Za-z]{2,}\", text)\n",
    "        email = email_matches[0] if email_matches else \"N/A\"\n",
    "        \n",
    "    return name, email\n",
    "     "
   ]
  },
  {
   "cell_type": "code",
   "execution_count": 16,
   "id": "80f6419f",
   "metadata": {
    "execution": {
     "iopub.execute_input": "2025-06-01T14:58:06.536610Z",
     "iopub.status.busy": "2025-06-01T14:58:06.536424Z",
     "iopub.status.idle": "2025-06-01T14:58:06.539917Z",
     "shell.execute_reply": "2025-06-01T14:58:06.539410Z"
    },
    "papermill": {
     "duration": 0.011049,
     "end_time": "2025-06-01T14:58:06.540971",
     "exception": false,
     "start_time": "2025-06-01T14:58:06.529922",
     "status": "completed"
    },
    "tags": []
   },
   "outputs": [],
   "source": [
    "def load_job_description(file_path):\n",
    "    \"\"\"\n",
    "    Read and return the job description text from a file.\n",
    "    \"\"\"\n",
    "    with open(file_path, \"r\", encoding=\"utf8\") as f:\n",
    "        return f.read()"
   ]
  },
  {
   "cell_type": "code",
   "execution_count": 17,
   "id": "163d1919",
   "metadata": {
    "execution": {
     "iopub.execute_input": "2025-06-01T14:58:06.554362Z",
     "iopub.status.busy": "2025-06-01T14:58:06.553704Z",
     "iopub.status.idle": "2025-06-01T14:58:07.931426Z",
     "shell.execute_reply": "2025-06-01T14:58:07.930828Z"
    },
    "papermill": {
     "duration": 1.38583,
     "end_time": "2025-06-01T14:58:07.932859",
     "exception": false,
     "start_time": "2025-06-01T14:58:06.547029",
     "status": "completed"
    },
    "tags": []
   },
   "outputs": [
    {
     "name": "stderr",
     "output_type": "stream",
     "text": [
      "/tmp/ipykernel_19/2807786875.py:8: UserWarning: [W007] The model you're using has no word vectors loaded, so the result of the Doc.similarity method will be based on the tagger, parser and NER, which may not give useful similarity judgements. This may happen if you're using one of the small models, e.g. `en_core_web_sm`, which don't ship with word vectors and only use context-sensitive tensors. You can always add your own word vectors, or use one of the larger models instead if available.\n",
      "  return doc_jd.similarity(doc_resume)\n"
     ]
    }
   ],
   "source": [
    "jd_text = load_job_description(\"/kaggle/input/job-description/jd_web_developer.txt\")\n",
    "target_labels = [\"SKILL\", \"EXPERIENCE\", \"QUALIFICATION\"]\n",
    "resume_folder = \"/kaggle/input/testresume\"\n",
    "resume_files = glob.glob(os.path.join(resume_folder, \"*.pdf\"))\n",
    "data = []\n",
    "for resume_path in resume_files:\n",
    "    resume_text = extract_pdf_text(resume_path)\n",
    "    if not resume_text:\n",
    "        print(f\"Could not extract text from {resume_path}\")\n",
    "        continue\n",
    "        \n",
    "        # Extract candidate details.\n",
    "    name, email = extract_candidate_details(resume_text)\n",
    "        # Compute similarity score between the job description and the resume.\n",
    "    similarity_score = resume_score(jd_text, resume_text, w_entity=0.5, w_text=0.5, target_labels=target_labels)\n",
    "        \n",
    "        # Append details to the data list.\n",
    "    data.append({\n",
    "        \"Name\": name,\n",
    "        \"Email\": email,\n",
    "        \"Similarity\": similarity_score\n",
    "        })"
   ]
  },
  {
   "cell_type": "code",
   "execution_count": 18,
   "id": "287c84ea",
   "metadata": {
    "execution": {
     "iopub.execute_input": "2025-06-01T14:58:07.947433Z",
     "iopub.status.busy": "2025-06-01T14:58:07.946753Z",
     "iopub.status.idle": "2025-06-01T14:58:07.975227Z",
     "shell.execute_reply": "2025-06-01T14:58:07.974681Z"
    },
    "papermill": {
     "duration": 0.036441,
     "end_time": "2025-06-01T14:58:07.976220",
     "exception": false,
     "start_time": "2025-06-01T14:58:07.939779",
     "status": "completed"
    },
    "tags": []
   },
   "outputs": [
    {
     "data": {
      "text/html": [
       "<div>\n",
       "<style scoped>\n",
       "    .dataframe tbody tr th:only-of-type {\n",
       "        vertical-align: middle;\n",
       "    }\n",
       "\n",
       "    .dataframe tbody tr th {\n",
       "        vertical-align: top;\n",
       "    }\n",
       "\n",
       "    .dataframe thead th {\n",
       "        text-align: right;\n",
       "    }\n",
       "</style>\n",
       "<table border=\"1\" class=\"dataframe\">\n",
       "  <thead>\n",
       "    <tr style=\"text-align: right;\">\n",
       "      <th></th>\n",
       "      <th>Name</th>\n",
       "      <th>Email</th>\n",
       "      <th>Similarity</th>\n",
       "    </tr>\n",
       "  </thead>\n",
       "  <tbody>\n",
       "    <tr>\n",
       "      <th>0</th>\n",
       "      <td>Huỳnh Chí Trung\\nBACKEND</td>\n",
       "      <td>huynhchitrung020503@gmail.com</td>\n",
       "      <td>0.413349</td>\n",
       "    </tr>\n",
       "    <tr>\n",
       "      <th>1</th>\n",
       "      <td>Alice Clark \\nAI / Machine Learning</td>\n",
       "      <td>N/A</td>\n",
       "      <td>0.393511</td>\n",
       "    </tr>\n",
       "  </tbody>\n",
       "</table>\n",
       "</div>"
      ],
      "text/plain": [
       "                                  Name                          Email  \\\n",
       "0             Huỳnh Chí Trung\\nBACKEND  huynhchitrung020503@gmail.com   \n",
       "1  Alice Clark \\nAI / Machine Learning                            N/A   \n",
       "\n",
       "   Similarity  \n",
       "0    0.413349  \n",
       "1    0.393511  "
      ]
     },
     "execution_count": 18,
     "metadata": {},
     "output_type": "execute_result"
    }
   ],
   "source": [
    "df = pd.DataFrame(data)\n",
    "df.sort_values(by=\"Similarity\", ascending=False, inplace=True)\n",
    "df[['Name','Email', 'Similarity']]"
   ]
  }
 ],
 "metadata": {
  "kaggle": {
   "accelerator": "gpu",
   "dataSources": [
    {
     "datasetId": 7565169,
     "sourceId": 12024387,
     "sourceType": "datasetVersion"
    },
    {
     "datasetId": 7566162,
     "sourceId": 12025773,
     "sourceType": "datasetVersion"
    },
    {
     "datasetId": 7566253,
     "sourceId": 12025901,
     "sourceType": "datasetVersion"
    },
    {
     "datasetId": 7460956,
     "sourceId": 12025986,
     "sourceType": "datasetVersion"
    },
    {
     "datasetId": 7566814,
     "sourceId": 12026674,
     "sourceType": "datasetVersion"
    },
    {
     "modelId": 364346,
     "modelInstanceId": 343064,
     "sourceId": 420945,
     "sourceType": "modelInstanceVersion"
    }
   ],
   "dockerImageVersionId": 31041,
   "isGpuEnabled": true,
   "isInternetEnabled": true,
   "language": "python",
   "sourceType": "notebook"
  },
  "kernelspec": {
   "display_name": "Python 3",
   "language": "python",
   "name": "python3"
  },
  "language_info": {
   "codemirror_mode": {
    "name": "ipython",
    "version": 3
   },
   "file_extension": ".py",
   "mimetype": "text/x-python",
   "name": "python",
   "nbconvert_exporter": "python",
   "pygments_lexer": "ipython3",
   "version": "3.11.11"
  },
  "papermill": {
   "default_parameters": {},
   "duration": 1505.960288,
   "end_time": "2025-06-01T14:58:09.203741",
   "environment_variables": {},
   "exception": null,
   "input_path": "__notebook__.ipynb",
   "output_path": "__notebook__.ipynb",
   "parameters": {},
   "start_time": "2025-06-01T14:33:03.243453",
   "version": "2.6.0"
  }
 },
 "nbformat": 4,
 "nbformat_minor": 5
}
